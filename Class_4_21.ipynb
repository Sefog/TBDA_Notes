{
 "cells": [
  {
   "cell_type": "markdown",
   "metadata": {},
   "source": [
    "## Class 21/4"
   ]
  },
  {
   "cell_type": "markdown",
   "metadata": {},
   "source": [
    "MQL -> MongoDB\n",
    "List profession: [fireman, cook, etc]\n",
    "cars: {}"
   ]
  },
  {
   "cell_type": "code",
   "execution_count": 2,
   "metadata": {},
   "outputs": [],
   "source": [
    "import pymongo\n",
    "import pandas as pd\n",
    "from pymongo import MongoClient"
   ]
  },
  {
   "cell_type": "code",
   "execution_count": 3,
   "metadata": {},
   "outputs": [],
   "source": [
    "client = MongoClient('mongodb://localhost:27017/')"
   ]
  },
  {
   "cell_type": "code",
   "execution_count": 4,
   "metadata": {},
   "outputs": [
    {
     "data": {
      "text/plain": [
       "pymongo.mongo_client.MongoClient"
      ]
     },
     "execution_count": 4,
     "metadata": {},
     "output_type": "execute_result"
    }
   ],
   "source": [
    "type(client)"
   ]
  },
  {
   "cell_type": "code",
   "execution_count": 5,
   "metadata": {},
   "outputs": [
    {
     "data": {
      "text/plain": [
       "['admin', 'atest', 'config', 'local']"
      ]
     },
     "execution_count": 5,
     "metadata": {},
     "output_type": "execute_result"
    }
   ],
   "source": [
    "client.list_database_names()"
   ]
  },
  {
   "cell_type": "code",
   "execution_count": 6,
   "metadata": {},
   "outputs": [],
   "source": [
    "db = client['atest']"
   ]
  },
  {
   "cell_type": "code",
   "execution_count": 7,
   "metadata": {},
   "outputs": [
    {
     "data": {
      "text/plain": [
       "pymongo.database.Database"
      ]
     },
     "execution_count": 7,
     "metadata": {},
     "output_type": "execute_result"
    }
   ],
   "source": [
    "type(db)"
   ]
  },
  {
   "cell_type": "code",
   "execution_count": 8,
   "metadata": {},
   "outputs": [
    {
     "data": {
      "text/plain": [
       "['products', 'employees', 'customers']"
      ]
     },
     "execution_count": 8,
     "metadata": {},
     "output_type": "execute_result"
    }
   ],
   "source": [
    "db.list_collection_names()"
   ]
  },
  {
   "cell_type": "code",
   "execution_count": 9,
   "metadata": {},
   "outputs": [
    {
     "data": {
      "text/plain": [
       "[{'_id': 'ac3',\n",
       "  'available': True,\n",
       "  'brand': 'ACME',\n",
       "  'name': 'AC3 Phone',\n",
       "  'price': 200,\n",
       "  'type': 'phone',\n",
       "  'warranty_years': 1},\n",
       " {'_id': 'ac7',\n",
       "  'available': False,\n",
       "  'brand': 'ACME',\n",
       "  'name': 'AC7 Phone',\n",
       "  'price': 320,\n",
       "  'type': 'phone',\n",
       "  'warranty_years': 1},\n",
       " {'_id': 'ac9',\n",
       "  'available': True,\n",
       "  'brand': 'ACME',\n",
       "  'name': 'AC9 Phone',\n",
       "  'price': 333,\n",
       "  'type': 'phone',\n",
       "  'warranty_years': 0.25},\n",
       " {'_id': ObjectId('507d95d5719dbef170f15bf9'),\n",
       "  'for': ['ac3', 'ac7', 'ac9'],\n",
       "  'name': 'AC3 Series Charger',\n",
       "  'price': 19,\n",
       "  'type': ['accessory', 'charger'],\n",
       "  'warranty_years': 0.25},\n",
       " {'_id': ObjectId('507d95d5719dbef170f15bfa'),\n",
       "  'color': 'green',\n",
       "  'name': 'AC3 Case Green',\n",
       "  'price': 12,\n",
       "  'type': ['accessory', 'case'],\n",
       "  'warranty_years': 0},\n",
       " {'_id': ObjectId('507d95d5719dbef170f15bfb'),\n",
       "  'for': ['ac3', 'ac7', 'ac9', 'qp7', 'qp8', 'qp9'],\n",
       "  'name': 'Phone Extended Warranty',\n",
       "  'price': 38,\n",
       "  'type': 'warranty',\n",
       "  'warranty_years': 2},\n",
       " {'_id': ObjectId('507d95d5719dbef170f15bfc'),\n",
       "  'available': False,\n",
       "  'color': 'black',\n",
       "  'for': 'ac3',\n",
       "  'name': 'AC3 Case Black',\n",
       "  'price': 12.5,\n",
       "  'type': ['accessory', 'case'],\n",
       "  'warranty_years': 0.25},\n",
       " {'_id': ObjectId('507d95d5719dbef170f15bfd'),\n",
       "  'available': True,\n",
       "  'color': 'red',\n",
       "  'for': 'ac3',\n",
       "  'name': 'AC3 Case Red',\n",
       "  'price': 12,\n",
       "  'type': ['accessory', 'case'],\n",
       "  'warranty_years': 0.25},\n",
       " {'_id': ObjectId('507d95d5719dbef170f15bfe'),\n",
       "  'limits': {'data': {'n': 20, 'over_rate': 1, 'units': 'gigabytes'},\n",
       "   'sms': {'n': 100, 'over_rate': 0.001, 'units': 'texts sent'},\n",
       "   'voice': {'n': 400, 'over_rate': 0.05, 'units': 'minutes'}},\n",
       "  'monthly_price': 40,\n",
       "  'name': 'Phone Service Basic Plan',\n",
       "  'term_years': 2,\n",
       "  'type': 'service'},\n",
       " {'_id': ObjectId('507d95d5719dbef170f15bff'),\n",
       "  'limits': {'data': {'n': 'unlimited', 'over_rate': 0},\n",
       "   'sms': {'n': 'unlimited', 'over_rate': 0},\n",
       "   'voice': {'n': 1000, 'over_rate': 0.05, 'units': 'minutes'}},\n",
       "  'monthly_price': 60,\n",
       "  'name': 'Phone Service Core Plan',\n",
       "  'term_years': 1,\n",
       "  'type': 'service'},\n",
       " {'_id': ObjectId('507d95d5719dbef170f15c00'),\n",
       "  'limits': {'data': {'n': 'unlimited', 'over_rate': 0},\n",
       "   'sms': {'n': 'unlimited', 'over_rate': 0.01},\n",
       "   'voice': {'n': 1200, 'over_rate': 0.05, 'units': 'minutes'}},\n",
       "  'monthly_price': 90,\n",
       "  'name': 'Phone Service Family Plan',\n",
       "  'sales_tax': True,\n",
       "  'term_years': 3,\n",
       "  'type': 'service'},\n",
       " {'_id': ObjectId('507d95d5719dbef170f15c01'),\n",
       "  'additional_tarriffs': [{'amount': {'percent_of_service': 0.06},\n",
       "    'kind': 'federal tarriff'},\n",
       "   {'amount': 2.25, 'kind': 'misc tarriff'}],\n",
       "  'cancel_penalty': 25,\n",
       "  'monthly_price': 50,\n",
       "  'name': 'Cable TV Basic Service Package',\n",
       "  'sales_tax': True,\n",
       "  'term_years': 2,\n",
       "  'type': 'tv'}]"
      ]
     },
     "execution_count": 9,
     "metadata": {},
     "output_type": "execute_result"
    }
   ],
   "source": [
    "list(db.products.find())"
   ]
  },
  {
   "cell_type": "code",
   "execution_count": 10,
   "metadata": {},
   "outputs": [
    {
     "name": "stdout",
     "output_type": "stream",
     "text": [
      "{'_id': ObjectId('661bff38c4e4ad38fd16c9b6'), 'emp_id': 2, 'emp_name': 'shir', 'age': 35, 'country': 'israel'}\n",
      "{'_id': ObjectId('661bff38c4e4ad38fd16c9b7'), 'emp_id': 2, 'emp_name': 'danny', 'age': 40, 'country': 'israel'}\n",
      "{'_id': 2, 'emp_id': 4, 'emp_name': 'guy', 'age': 35, 'country': 'usa'}\n",
      "{'_id': ObjectId('661bff38c4e4ad38fd16c9b9'), 'emp_id': 6, 'emp_name': 'rotem', 'age': 35, 'city': 'tel-aviv', 'country': 'israel', 'degrees': {'first_deg': 'economics', 'second_deg': 'psychology'}}\n",
      "{'_id': ObjectId('661bff38c4e4ad38fd16c9ba'), 'emp_id': 7, 'emp_name': 'lili', 'age': 40, 'country': 'usa', 'cars': [{'year': 2015, 'name': 'rolls royce'}, {'year': 2016, 'name': 'fiat'}]}\n"
     ]
    }
   ],
   "source": [
    "for v in db.employees.find({'age':{'$gt':32}}):\n",
    "    print(v)"
   ]
  },
  {
   "cell_type": "code",
   "execution_count": 11,
   "metadata": {},
   "outputs": [],
   "source": [
    "result = db.products.find()"
   ]
  },
  {
   "cell_type": "code",
   "execution_count": 12,
   "metadata": {},
   "outputs": [
    {
     "name": "stdout",
     "output_type": "stream",
     "text": [
      "{'_id': 'ac3', 'available': True, 'brand': 'ACME', 'name': 'AC3 Phone', 'price': 200, 'type': 'phone', 'warranty_years': 1}\n",
      "{'_id': 'ac7', 'available': False, 'brand': 'ACME', 'name': 'AC7 Phone', 'price': 320, 'type': 'phone', 'warranty_years': 1}\n",
      "{'_id': 'ac9', 'available': True, 'brand': 'ACME', 'name': 'AC9 Phone', 'price': 333, 'type': 'phone', 'warranty_years': 0.25}\n",
      "{'_id': ObjectId('507d95d5719dbef170f15bf9'), 'for': ['ac3', 'ac7', 'ac9'], 'name': 'AC3 Series Charger', 'price': 19, 'type': ['accessory', 'charger'], 'warranty_years': 0.25}\n",
      "{'_id': ObjectId('507d95d5719dbef170f15bfa'), 'color': 'green', 'name': 'AC3 Case Green', 'price': 12, 'type': ['accessory', 'case'], 'warranty_years': 0}\n",
      "{'_id': ObjectId('507d95d5719dbef170f15bfb'), 'for': ['ac3', 'ac7', 'ac9', 'qp7', 'qp8', 'qp9'], 'name': 'Phone Extended Warranty', 'price': 38, 'type': 'warranty', 'warranty_years': 2}\n",
      "{'_id': ObjectId('507d95d5719dbef170f15bfc'), 'available': False, 'color': 'black', 'for': 'ac3', 'name': 'AC3 Case Black', 'price': 12.5, 'type': ['accessory', 'case'], 'warranty_years': 0.25}\n",
      "{'_id': ObjectId('507d95d5719dbef170f15bfd'), 'available': True, 'color': 'red', 'for': 'ac3', 'name': 'AC3 Case Red', 'price': 12, 'type': ['accessory', 'case'], 'warranty_years': 0.25}\n",
      "{'_id': ObjectId('507d95d5719dbef170f15bfe'), 'limits': {'data': {'n': 20, 'over_rate': 1, 'units': 'gigabytes'}, 'sms': {'n': 100, 'over_rate': 0.001, 'units': 'texts sent'}, 'voice': {'n': 400, 'over_rate': 0.05, 'units': 'minutes'}}, 'monthly_price': 40, 'name': 'Phone Service Basic Plan', 'term_years': 2, 'type': 'service'}\n",
      "{'_id': ObjectId('507d95d5719dbef170f15bff'), 'limits': {'data': {'n': 'unlimited', 'over_rate': 0}, 'sms': {'n': 'unlimited', 'over_rate': 0}, 'voice': {'n': 1000, 'over_rate': 0.05, 'units': 'minutes'}}, 'monthly_price': 60, 'name': 'Phone Service Core Plan', 'term_years': 1, 'type': 'service'}\n",
      "{'_id': ObjectId('507d95d5719dbef170f15c00'), 'limits': {'data': {'n': 'unlimited', 'over_rate': 0}, 'sms': {'n': 'unlimited', 'over_rate': 0.01}, 'voice': {'n': 1200, 'over_rate': 0.05, 'units': 'minutes'}}, 'monthly_price': 90, 'name': 'Phone Service Family Plan', 'sales_tax': True, 'term_years': 3, 'type': 'service'}\n",
      "{'_id': ObjectId('507d95d5719dbef170f15c01'), 'additional_tarriffs': [{'amount': {'percent_of_service': 0.06}, 'kind': 'federal tarriff'}, {'amount': 2.25, 'kind': 'misc tarriff'}], 'cancel_penalty': 25, 'monthly_price': 50, 'name': 'Cable TV Basic Service Package', 'sales_tax': True, 'term_years': 2, 'type': 'tv'}\n"
     ]
    }
   ],
   "source": [
    "for i in result:\n",
    "    print(i)"
   ]
  },
  {
   "cell_type": "code",
   "execution_count": 13,
   "metadata": {},
   "outputs": [
    {
     "data": {
      "text/plain": [
       "<pymongo.cursor.Cursor at 0x2207c2d40d0>"
      ]
     },
     "execution_count": 13,
     "metadata": {},
     "output_type": "execute_result"
    }
   ],
   "source": [
    "result.rewind()"
   ]
  },
  {
   "cell_type": "code",
   "execution_count": 15,
   "metadata": {},
   "outputs": [
    {
     "name": "stdout",
     "output_type": "stream",
     "text": [
      "{'_id': 'ac3', 'available': True, 'brand': 'ACME', 'name': 'AC3 Phone', 'price': 200, 'type': 'phone', 'warranty_years': 1}\n",
      "{'_id': 'ac7', 'available': False, 'brand': 'ACME', 'name': 'AC7 Phone', 'price': 320, 'type': 'phone', 'warranty_years': 1}\n",
      "{'_id': 'ac9', 'available': True, 'brand': 'ACME', 'name': 'AC9 Phone', 'price': 333, 'type': 'phone', 'warranty_years': 0.25}\n",
      "{'_id': ObjectId('507d95d5719dbef170f15bf9'), 'for': ['ac3', 'ac7', 'ac9'], 'name': 'AC3 Series Charger', 'price': 19, 'type': ['accessory', 'charger'], 'warranty_years': 0.25}\n",
      "{'_id': ObjectId('507d95d5719dbef170f15bfa'), 'color': 'green', 'name': 'AC3 Case Green', 'price': 12, 'type': ['accessory', 'case'], 'warranty_years': 0}\n",
      "{'_id': ObjectId('507d95d5719dbef170f15bfb'), 'for': ['ac3', 'ac7', 'ac9', 'qp7', 'qp8', 'qp9'], 'name': 'Phone Extended Warranty', 'price': 38, 'type': 'warranty', 'warranty_years': 2}\n",
      "{'_id': ObjectId('507d95d5719dbef170f15bfc'), 'available': False, 'color': 'black', 'for': 'ac3', 'name': 'AC3 Case Black', 'price': 12.5, 'type': ['accessory', 'case'], 'warranty_years': 0.25}\n",
      "{'_id': ObjectId('507d95d5719dbef170f15bfd'), 'available': True, 'color': 'red', 'for': 'ac3', 'name': 'AC3 Case Red', 'price': 12, 'type': ['accessory', 'case'], 'warranty_years': 0.25}\n",
      "{'_id': ObjectId('507d95d5719dbef170f15bfe'), 'limits': {'data': {'n': 20, 'over_rate': 1, 'units': 'gigabytes'}, 'sms': {'n': 100, 'over_rate': 0.001, 'units': 'texts sent'}, 'voice': {'n': 400, 'over_rate': 0.05, 'units': 'minutes'}}, 'monthly_price': 40, 'name': 'Phone Service Basic Plan', 'term_years': 2, 'type': 'service'}\n",
      "{'_id': ObjectId('507d95d5719dbef170f15bff'), 'limits': {'data': {'n': 'unlimited', 'over_rate': 0}, 'sms': {'n': 'unlimited', 'over_rate': 0}, 'voice': {'n': 1000, 'over_rate': 0.05, 'units': 'minutes'}}, 'monthly_price': 60, 'name': 'Phone Service Core Plan', 'term_years': 1, 'type': 'service'}\n",
      "{'_id': ObjectId('507d95d5719dbef170f15c00'), 'limits': {'data': {'n': 'unlimited', 'over_rate': 0}, 'sms': {'n': 'unlimited', 'over_rate': 0.01}, 'voice': {'n': 1200, 'over_rate': 0.05, 'units': 'minutes'}}, 'monthly_price': 90, 'name': 'Phone Service Family Plan', 'sales_tax': True, 'term_years': 3, 'type': 'service'}\n",
      "{'_id': ObjectId('507d95d5719dbef170f15c01'), 'additional_tarriffs': [{'amount': {'percent_of_service': 0.06}, 'kind': 'federal tarriff'}, {'amount': 2.25, 'kind': 'misc tarriff'}], 'cancel_penalty': 25, 'monthly_price': 50, 'name': 'Cable TV Basic Service Package', 'sales_tax': True, 'term_years': 2, 'type': 'tv'}\n"
     ]
    }
   ],
   "source": [
    "for i in result:\n",
    "    print(i)"
   ]
  },
  {
   "cell_type": "code",
   "execution_count": null,
   "metadata": {},
   "outputs": [],
   "source": [
    "result = db.products.find({\"brand\": \"ACME\"})"
   ]
  },
  {
   "cell_type": "code",
   "execution_count": 16,
   "metadata": {},
   "outputs": [
    {
     "data": {
      "text/html": [
       "<div>\n",
       "<style scoped>\n",
       "    .dataframe tbody tr th:only-of-type {\n",
       "        vertical-align: middle;\n",
       "    }\n",
       "\n",
       "    .dataframe tbody tr th {\n",
       "        vertical-align: top;\n",
       "    }\n",
       "\n",
       "    .dataframe thead th {\n",
       "        text-align: right;\n",
       "    }\n",
       "</style>\n",
       "<table border=\"1\" class=\"dataframe\">\n",
       "  <thead>\n",
       "    <tr style=\"text-align: right;\">\n",
       "      <th></th>\n",
       "      <th>_id</th>\n",
       "      <th>available</th>\n",
       "      <th>brand</th>\n",
       "      <th>name</th>\n",
       "      <th>price</th>\n",
       "      <th>type</th>\n",
       "      <th>warranty_years</th>\n",
       "      <th>for</th>\n",
       "      <th>color</th>\n",
       "      <th>limits</th>\n",
       "      <th>monthly_price</th>\n",
       "      <th>term_years</th>\n",
       "      <th>sales_tax</th>\n",
       "      <th>additional_tarriffs</th>\n",
       "      <th>cancel_penalty</th>\n",
       "    </tr>\n",
       "  </thead>\n",
       "  <tbody>\n",
       "    <tr>\n",
       "      <th>0</th>\n",
       "      <td>ac3</td>\n",
       "      <td>True</td>\n",
       "      <td>ACME</td>\n",
       "      <td>AC3 Phone</td>\n",
       "      <td>200.0</td>\n",
       "      <td>phone</td>\n",
       "      <td>1.00</td>\n",
       "      <td>NaN</td>\n",
       "      <td>NaN</td>\n",
       "      <td>NaN</td>\n",
       "      <td>NaN</td>\n",
       "      <td>NaN</td>\n",
       "      <td>NaN</td>\n",
       "      <td>NaN</td>\n",
       "      <td>NaN</td>\n",
       "    </tr>\n",
       "    <tr>\n",
       "      <th>1</th>\n",
       "      <td>ac7</td>\n",
       "      <td>False</td>\n",
       "      <td>ACME</td>\n",
       "      <td>AC7 Phone</td>\n",
       "      <td>320.0</td>\n",
       "      <td>phone</td>\n",
       "      <td>1.00</td>\n",
       "      <td>NaN</td>\n",
       "      <td>NaN</td>\n",
       "      <td>NaN</td>\n",
       "      <td>NaN</td>\n",
       "      <td>NaN</td>\n",
       "      <td>NaN</td>\n",
       "      <td>NaN</td>\n",
       "      <td>NaN</td>\n",
       "    </tr>\n",
       "    <tr>\n",
       "      <th>2</th>\n",
       "      <td>ac9</td>\n",
       "      <td>True</td>\n",
       "      <td>ACME</td>\n",
       "      <td>AC9 Phone</td>\n",
       "      <td>333.0</td>\n",
       "      <td>phone</td>\n",
       "      <td>0.25</td>\n",
       "      <td>NaN</td>\n",
       "      <td>NaN</td>\n",
       "      <td>NaN</td>\n",
       "      <td>NaN</td>\n",
       "      <td>NaN</td>\n",
       "      <td>NaN</td>\n",
       "      <td>NaN</td>\n",
       "      <td>NaN</td>\n",
       "    </tr>\n",
       "    <tr>\n",
       "      <th>3</th>\n",
       "      <td>507d95d5719dbef170f15bf9</td>\n",
       "      <td>NaN</td>\n",
       "      <td>NaN</td>\n",
       "      <td>AC3 Series Charger</td>\n",
       "      <td>19.0</td>\n",
       "      <td>[accessory, charger]</td>\n",
       "      <td>0.25</td>\n",
       "      <td>[ac3, ac7, ac9]</td>\n",
       "      <td>NaN</td>\n",
       "      <td>NaN</td>\n",
       "      <td>NaN</td>\n",
       "      <td>NaN</td>\n",
       "      <td>NaN</td>\n",
       "      <td>NaN</td>\n",
       "      <td>NaN</td>\n",
       "    </tr>\n",
       "    <tr>\n",
       "      <th>4</th>\n",
       "      <td>507d95d5719dbef170f15bfa</td>\n",
       "      <td>NaN</td>\n",
       "      <td>NaN</td>\n",
       "      <td>AC3 Case Green</td>\n",
       "      <td>12.0</td>\n",
       "      <td>[accessory, case]</td>\n",
       "      <td>0.00</td>\n",
       "      <td>NaN</td>\n",
       "      <td>green</td>\n",
       "      <td>NaN</td>\n",
       "      <td>NaN</td>\n",
       "      <td>NaN</td>\n",
       "      <td>NaN</td>\n",
       "      <td>NaN</td>\n",
       "      <td>NaN</td>\n",
       "    </tr>\n",
       "    <tr>\n",
       "      <th>5</th>\n",
       "      <td>507d95d5719dbef170f15bfb</td>\n",
       "      <td>NaN</td>\n",
       "      <td>NaN</td>\n",
       "      <td>Phone Extended Warranty</td>\n",
       "      <td>38.0</td>\n",
       "      <td>warranty</td>\n",
       "      <td>2.00</td>\n",
       "      <td>[ac3, ac7, ac9, qp7, qp8, qp9]</td>\n",
       "      <td>NaN</td>\n",
       "      <td>NaN</td>\n",
       "      <td>NaN</td>\n",
       "      <td>NaN</td>\n",
       "      <td>NaN</td>\n",
       "      <td>NaN</td>\n",
       "      <td>NaN</td>\n",
       "    </tr>\n",
       "    <tr>\n",
       "      <th>6</th>\n",
       "      <td>507d95d5719dbef170f15bfc</td>\n",
       "      <td>False</td>\n",
       "      <td>NaN</td>\n",
       "      <td>AC3 Case Black</td>\n",
       "      <td>12.5</td>\n",
       "      <td>[accessory, case]</td>\n",
       "      <td>0.25</td>\n",
       "      <td>ac3</td>\n",
       "      <td>black</td>\n",
       "      <td>NaN</td>\n",
       "      <td>NaN</td>\n",
       "      <td>NaN</td>\n",
       "      <td>NaN</td>\n",
       "      <td>NaN</td>\n",
       "      <td>NaN</td>\n",
       "    </tr>\n",
       "    <tr>\n",
       "      <th>7</th>\n",
       "      <td>507d95d5719dbef170f15bfd</td>\n",
       "      <td>True</td>\n",
       "      <td>NaN</td>\n",
       "      <td>AC3 Case Red</td>\n",
       "      <td>12.0</td>\n",
       "      <td>[accessory, case]</td>\n",
       "      <td>0.25</td>\n",
       "      <td>ac3</td>\n",
       "      <td>red</td>\n",
       "      <td>NaN</td>\n",
       "      <td>NaN</td>\n",
       "      <td>NaN</td>\n",
       "      <td>NaN</td>\n",
       "      <td>NaN</td>\n",
       "      <td>NaN</td>\n",
       "    </tr>\n",
       "    <tr>\n",
       "      <th>8</th>\n",
       "      <td>507d95d5719dbef170f15bfe</td>\n",
       "      <td>NaN</td>\n",
       "      <td>NaN</td>\n",
       "      <td>Phone Service Basic Plan</td>\n",
       "      <td>NaN</td>\n",
       "      <td>service</td>\n",
       "      <td>NaN</td>\n",
       "      <td>NaN</td>\n",
       "      <td>NaN</td>\n",
       "      <td>{'data': {'n': 20, 'over_rate': 1, 'units': 'g...</td>\n",
       "      <td>40.0</td>\n",
       "      <td>2.0</td>\n",
       "      <td>NaN</td>\n",
       "      <td>NaN</td>\n",
       "      <td>NaN</td>\n",
       "    </tr>\n",
       "    <tr>\n",
       "      <th>9</th>\n",
       "      <td>507d95d5719dbef170f15bff</td>\n",
       "      <td>NaN</td>\n",
       "      <td>NaN</td>\n",
       "      <td>Phone Service Core Plan</td>\n",
       "      <td>NaN</td>\n",
       "      <td>service</td>\n",
       "      <td>NaN</td>\n",
       "      <td>NaN</td>\n",
       "      <td>NaN</td>\n",
       "      <td>{'data': {'n': 'unlimited', 'over_rate': 0}, '...</td>\n",
       "      <td>60.0</td>\n",
       "      <td>1.0</td>\n",
       "      <td>NaN</td>\n",
       "      <td>NaN</td>\n",
       "      <td>NaN</td>\n",
       "    </tr>\n",
       "    <tr>\n",
       "      <th>10</th>\n",
       "      <td>507d95d5719dbef170f15c00</td>\n",
       "      <td>NaN</td>\n",
       "      <td>NaN</td>\n",
       "      <td>Phone Service Family Plan</td>\n",
       "      <td>NaN</td>\n",
       "      <td>service</td>\n",
       "      <td>NaN</td>\n",
       "      <td>NaN</td>\n",
       "      <td>NaN</td>\n",
       "      <td>{'data': {'n': 'unlimited', 'over_rate': 0}, '...</td>\n",
       "      <td>90.0</td>\n",
       "      <td>3.0</td>\n",
       "      <td>True</td>\n",
       "      <td>NaN</td>\n",
       "      <td>NaN</td>\n",
       "    </tr>\n",
       "    <tr>\n",
       "      <th>11</th>\n",
       "      <td>507d95d5719dbef170f15c01</td>\n",
       "      <td>NaN</td>\n",
       "      <td>NaN</td>\n",
       "      <td>Cable TV Basic Service Package</td>\n",
       "      <td>NaN</td>\n",
       "      <td>tv</td>\n",
       "      <td>NaN</td>\n",
       "      <td>NaN</td>\n",
       "      <td>NaN</td>\n",
       "      <td>NaN</td>\n",
       "      <td>50.0</td>\n",
       "      <td>2.0</td>\n",
       "      <td>True</td>\n",
       "      <td>[{'amount': {'percent_of_service': 0.06}, 'kin...</td>\n",
       "      <td>25.0</td>\n",
       "    </tr>\n",
       "  </tbody>\n",
       "</table>\n",
       "</div>"
      ],
      "text/plain": [
       "                         _id available brand                            name  \\\n",
       "0                        ac3      True  ACME                       AC3 Phone   \n",
       "1                        ac7     False  ACME                       AC7 Phone   \n",
       "2                        ac9      True  ACME                       AC9 Phone   \n",
       "3   507d95d5719dbef170f15bf9       NaN   NaN              AC3 Series Charger   \n",
       "4   507d95d5719dbef170f15bfa       NaN   NaN                  AC3 Case Green   \n",
       "5   507d95d5719dbef170f15bfb       NaN   NaN         Phone Extended Warranty   \n",
       "6   507d95d5719dbef170f15bfc     False   NaN                  AC3 Case Black   \n",
       "7   507d95d5719dbef170f15bfd      True   NaN                    AC3 Case Red   \n",
       "8   507d95d5719dbef170f15bfe       NaN   NaN        Phone Service Basic Plan   \n",
       "9   507d95d5719dbef170f15bff       NaN   NaN         Phone Service Core Plan   \n",
       "10  507d95d5719dbef170f15c00       NaN   NaN       Phone Service Family Plan   \n",
       "11  507d95d5719dbef170f15c01       NaN   NaN  Cable TV Basic Service Package   \n",
       "\n",
       "    price                  type  warranty_years  \\\n",
       "0   200.0                 phone            1.00   \n",
       "1   320.0                 phone            1.00   \n",
       "2   333.0                 phone            0.25   \n",
       "3    19.0  [accessory, charger]            0.25   \n",
       "4    12.0     [accessory, case]            0.00   \n",
       "5    38.0              warranty            2.00   \n",
       "6    12.5     [accessory, case]            0.25   \n",
       "7    12.0     [accessory, case]            0.25   \n",
       "8     NaN               service             NaN   \n",
       "9     NaN               service             NaN   \n",
       "10    NaN               service             NaN   \n",
       "11    NaN                    tv             NaN   \n",
       "\n",
       "                               for  color  \\\n",
       "0                              NaN    NaN   \n",
       "1                              NaN    NaN   \n",
       "2                              NaN    NaN   \n",
       "3                  [ac3, ac7, ac9]    NaN   \n",
       "4                              NaN  green   \n",
       "5   [ac3, ac7, ac9, qp7, qp8, qp9]    NaN   \n",
       "6                              ac3  black   \n",
       "7                              ac3    red   \n",
       "8                              NaN    NaN   \n",
       "9                              NaN    NaN   \n",
       "10                             NaN    NaN   \n",
       "11                             NaN    NaN   \n",
       "\n",
       "                                               limits  monthly_price  \\\n",
       "0                                                 NaN            NaN   \n",
       "1                                                 NaN            NaN   \n",
       "2                                                 NaN            NaN   \n",
       "3                                                 NaN            NaN   \n",
       "4                                                 NaN            NaN   \n",
       "5                                                 NaN            NaN   \n",
       "6                                                 NaN            NaN   \n",
       "7                                                 NaN            NaN   \n",
       "8   {'data': {'n': 20, 'over_rate': 1, 'units': 'g...           40.0   \n",
       "9   {'data': {'n': 'unlimited', 'over_rate': 0}, '...           60.0   \n",
       "10  {'data': {'n': 'unlimited', 'over_rate': 0}, '...           90.0   \n",
       "11                                                NaN           50.0   \n",
       "\n",
       "    term_years sales_tax                                additional_tarriffs  \\\n",
       "0          NaN       NaN                                                NaN   \n",
       "1          NaN       NaN                                                NaN   \n",
       "2          NaN       NaN                                                NaN   \n",
       "3          NaN       NaN                                                NaN   \n",
       "4          NaN       NaN                                                NaN   \n",
       "5          NaN       NaN                                                NaN   \n",
       "6          NaN       NaN                                                NaN   \n",
       "7          NaN       NaN                                                NaN   \n",
       "8          2.0       NaN                                                NaN   \n",
       "9          1.0       NaN                                                NaN   \n",
       "10         3.0      True                                                NaN   \n",
       "11         2.0      True  [{'amount': {'percent_of_service': 0.06}, 'kin...   \n",
       "\n",
       "    cancel_penalty  \n",
       "0              NaN  \n",
       "1              NaN  \n",
       "2              NaN  \n",
       "3              NaN  \n",
       "4              NaN  \n",
       "5              NaN  \n",
       "6              NaN  \n",
       "7              NaN  \n",
       "8              NaN  \n",
       "9              NaN  \n",
       "10             NaN  \n",
       "11            25.0  "
      ]
     },
     "execution_count": 16,
     "metadata": {},
     "output_type": "execute_result"
    }
   ],
   "source": [
    "df = pd.DataFrame(db.products.find())\n",
    "df"
   ]
  },
  {
   "cell_type": "code",
   "execution_count": 18,
   "metadata": {},
   "outputs": [
    {
     "data": {
      "text/plain": [
       "_id                     object\n",
       "available               object\n",
       "brand                   object\n",
       "name                    object\n",
       "price                  float64\n",
       "type                    object\n",
       "warranty_years         float64\n",
       "for                     object\n",
       "color                   object\n",
       "limits                  object\n",
       "monthly_price          float64\n",
       "term_years             float64\n",
       "sales_tax               object\n",
       "additional_tarriffs     object\n",
       "cancel_penalty         float64\n",
       "dtype: object"
      ]
     },
     "execution_count": 18,
     "metadata": {},
     "output_type": "execute_result"
    }
   ],
   "source": [
    "df.dtypes"
   ]
  },
  {
   "cell_type": "markdown",
   "metadata": {},
   "source": [
    "## Hadoop ->  \n",
    "a distributed storage and distributed processing of very large data sets. NOT A DATABASE\n",
    "computer cluster -> a set of computers work at as one "
   ]
  },
  {
   "cell_type": "markdown",
   "metadata": {},
   "source": [
    "HQL == Hive Query Language (like sql)\n",
    "\n",
    "Spark == Pyspark, super fast boi!"
   ]
  },
  {
   "cell_type": "markdown",
   "metadata": {},
   "source": [
    "Implecent measures "
   ]
  },
  {
   "cell_type": "code",
   "execution_count": null,
   "metadata": {},
   "outputs": [],
   "source": []
  },
  {
   "cell_type": "code",
   "execution_count": null,
   "metadata": {},
   "outputs": [],
   "source": []
  },
  {
   "cell_type": "code",
   "execution_count": null,
   "metadata": {},
   "outputs": [],
   "source": []
  },
  {
   "cell_type": "code",
   "execution_count": null,
   "metadata": {},
   "outputs": [],
   "source": []
  },
  {
   "cell_type": "code",
   "execution_count": null,
   "metadata": {},
   "outputs": [],
   "source": []
  },
  {
   "cell_type": "code",
   "execution_count": null,
   "metadata": {},
   "outputs": [],
   "source": []
  }
 ],
 "metadata": {
  "kernelspec": {
   "display_name": "base",
   "language": "python",
   "name": "python3"
  },
  "language_info": {
   "codemirror_mode": {
    "name": "ipython",
    "version": 3
   },
   "file_extension": ".py",
   "mimetype": "text/x-python",
   "name": "python",
   "nbconvert_exporter": "python",
   "pygments_lexer": "ipython3",
   "version": "3.11.7"
  }
 },
 "nbformat": 4,
 "nbformat_minor": 2
}
