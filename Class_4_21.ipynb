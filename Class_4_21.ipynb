{
 "cells": [
  {
   "cell_type": "markdown",
   "metadata": {},
   "source": [
    "## Class 21/4"
   ]
  },
  {
   "cell_type": "markdown",
   "metadata": {},
   "source": [
    "MQL -> MongoDB\n",
    "List profession: [fireman, cook, etc]\n",
    "cars: {}"
   ]
  },
  {
   "cell_type": "code",
   "execution_count": 2,
   "metadata": {},
   "outputs": [],
   "source": [
    "import pymongo\n",
    "import pandas as pd\n",
    "from pymongo import MongoClient"
   ]
  },
  {
   "cell_type": "code",
   "execution_count": 3,
   "metadata": {},
   "outputs": [],
   "source": [
    "client = MongoClient('mongodb://localhost:27017/')"
   ]
  },
  {
   "cell_type": "code",
   "execution_count": 4,
   "metadata": {},
   "outputs": [
    {
     "data": {
      "text/plain": [
       "pymongo.mongo_client.MongoClient"
      ]
     },
     "execution_count": 4,
     "metadata": {},
     "output_type": "execute_result"
    }
   ],
   "source": [
    "type(client)"
   ]
  },
  {
   "cell_type": "code",
   "execution_count": 5,
   "metadata": {},
   "outputs": [
    {
     "data": {
      "text/plain": [
       "['admin', 'atest', 'config', 'local']"
      ]
     },
     "execution_count": 5,
     "metadata": {},
     "output_type": "execute_result"
    }
   ],
   "source": [
    "client.list_database_names()"
   ]
  },
  {
   "cell_type": "code",
   "execution_count": 6,
   "metadata": {},
   "outputs": [],
   "source": [
    "db = client['atest']"
   ]
  },
  {
   "cell_type": "code",
   "execution_count": 7,
   "metadata": {},
   "outputs": [
    {
     "data": {
      "text/plain": [
       "pymongo.database.Database"
      ]
     },
     "execution_count": 7,
     "metadata": {},
     "output_type": "execute_result"
    }
   ],
   "source": [
    "type(db)"
   ]
  },
  {
   "cell_type": "code",
   "execution_count": 8,
   "metadata": {},
   "outputs": [
    {
     "data": {
      "text/plain": [
       "['products', 'employees', 'customers']"
      ]
     },
     "execution_count": 8,
     "metadata": {},
     "output_type": "execute_result"
    }
   ],
   "source": [
    "db.list_collection_names()"
   ]
  },
  {
   "cell_type": "code",
   "execution_count": 9,
   "metadata": {},
   "outputs": [
    {
     "data": {
      "text/plain": [
       "[{'_id': 'ac3',\n",
       "  'available': True,\n",
       "  'brand': 'ACME',\n",
       "  'name': 'AC3 Phone',\n",
       "  'price': 200,\n",
       "  'type': 'phone',\n",
       "  'warranty_years': 1},\n",
       " {'_id': 'ac7',\n",
       "  'available': False,\n",
       "  'brand': 'ACME',\n",
       "  'name': 'AC7 Phone',\n",
       "  'price': 320,\n",
       "  'type': 'phone',\n",
       "  'warranty_years': 1},\n",
       " {'_id': 'ac9',\n",
       "  'available': True,\n",
       "  'brand': 'ACME',\n",
       "  'name': 'AC9 Phone',\n",
       "  'price': 333,\n",
       "  'type': 'phone',\n",
       "  'warranty_years': 0.25},\n",
       " {'_id': ObjectId('507d95d5719dbef170f15bf9'),\n",
       "  'for': ['ac3', 'ac7', 'ac9'],\n",
       "  'name': 'AC3 Series Charger',\n",
       "  'price': 19,\n",
       "  'type': ['accessory', 'charger'],\n",
       "  'warranty_years': 0.25},\n",
       " {'_id': ObjectId('507d95d5719dbef170f15bfa'),\n",
       "  'color': 'green',\n",
       "  'name': 'AC3 Case Green',\n",
       "  'price': 12,\n",
       "  'type': ['accessory', 'case'],\n",
       "  'warranty_years': 0},\n",
       " {'_id': ObjectId('507d95d5719dbef170f15bfb'),\n",
       "  'for': ['ac3', 'ac7', 'ac9', 'qp7', 'qp8', 'qp9'],\n",
       "  'name': 'Phone Extended Warranty',\n",
       "  'price': 38,\n",
       "  'type': 'warranty',\n",
       "  'warranty_years': 2},\n",
       " {'_id': ObjectId('507d95d5719dbef170f15bfc'),\n",
       "  'available': False,\n",
       "  'color': 'black',\n",
       "  'for': 'ac3',\n",
       "  'name': 'AC3 Case Black',\n",
       "  'price': 12.5,\n",
       "  'type': ['accessory', 'case'],\n",
       "  'warranty_years': 0.25},\n",
       " {'_id': ObjectId('507d95d5719dbef170f15bfd'),\n",
       "  'available': True,\n",
       "  'color': 'red',\n",
       "  'for': 'ac3',\n",
       "  'name': 'AC3 Case Red',\n",
       "  'price': 12,\n",
       "  'type': ['accessory', 'case'],\n",
       "  'warranty_years': 0.25},\n",
       " {'_id': ObjectId('507d95d5719dbef170f15bfe'),\n",
       "  'limits': {'data': {'n': 20, 'over_rate': 1, 'units': 'gigabytes'},\n",
       "   'sms': {'n': 100, 'over_rate': 0.001, 'units': 'texts sent'},\n",
       "   'voice': {'n': 400, 'over_rate': 0.05, 'units': 'minutes'}},\n",
       "  'monthly_price': 40,\n",
       "  'name': 'Phone Service Basic Plan',\n",
       "  'term_years': 2,\n",
       "  'type': 'service'},\n",
       " {'_id': ObjectId('507d95d5719dbef170f15bff'),\n",
       "  'limits': {'data': {'n': 'unlimited', 'over_rate': 0},\n",
       "   'sms': {'n': 'unlimited', 'over_rate': 0},\n",
       "   'voice': {'n': 1000, 'over_rate': 0.05, 'units': 'minutes'}},\n",
       "  'monthly_price': 60,\n",
       "  'name': 'Phone Service Core Plan',\n",
       "  'term_years': 1,\n",
       "  'type': 'service'},\n",
       " {'_id': ObjectId('507d95d5719dbef170f15c00'),\n",
       "  'limits': {'data': {'n': 'unlimited', 'over_rate': 0},\n",
       "   'sms': {'n': 'unlimited', 'over_rate': 0.01},\n",
       "   'voice': {'n': 1200, 'over_rate': 0.05, 'units': 'minutes'}},\n",
       "  'monthly_price': 90,\n",
       "  'name': 'Phone Service Family Plan',\n",
       "  'sales_tax': True,\n",
       "  'term_years': 3,\n",
       "  'type': 'service'},\n",
       " {'_id': ObjectId('507d95d5719dbef170f15c01'),\n",
       "  'additional_tarriffs': [{'amount': {'percent_of_service': 0.06},\n",
       "    'kind': 'federal tarriff'},\n",
       "   {'amount': 2.25, 'kind': 'misc tarriff'}],\n",
       "  'cancel_penalty': 25,\n",
       "  'monthly_price': 50,\n",
       "  'name': 'Cable TV Basic Service Package',\n",
       "  'sales_tax': True,\n",
       "  'term_years': 2,\n",
       "  'type': 'tv'}]"
      ]
     },
     "execution_count": 9,
     "metadata": {},
     "output_type": "execute_result"
    }
   ],
   "source": [
    "list(db.products.find())"
   ]
  },
  {
   "cell_type": "code",
   "execution_count": null,
   "metadata": {},
   "outputs": [],
   "source": []
  },
  {
   "cell_type": "code",
   "execution_count": null,
   "metadata": {},
   "outputs": [],
   "source": []
  },
  {
   "cell_type": "code",
   "execution_count": null,
   "metadata": {},
   "outputs": [],
   "source": []
  },
  {
   "cell_type": "code",
   "execution_count": null,
   "metadata": {},
   "outputs": [],
   "source": []
  },
  {
   "cell_type": "code",
   "execution_count": null,
   "metadata": {},
   "outputs": [],
   "source": []
  },
  {
   "cell_type": "code",
   "execution_count": null,
   "metadata": {},
   "outputs": [],
   "source": []
  },
  {
   "cell_type": "code",
   "execution_count": null,
   "metadata": {},
   "outputs": [],
   "source": []
  },
  {
   "cell_type": "code",
   "execution_count": null,
   "metadata": {},
   "outputs": [],
   "source": []
  },
  {
   "cell_type": "code",
   "execution_count": null,
   "metadata": {},
   "outputs": [],
   "source": []
  }
 ],
 "metadata": {
  "kernelspec": {
   "display_name": "base",
   "language": "python",
   "name": "python3"
  },
  "language_info": {
   "codemirror_mode": {
    "name": "ipython",
    "version": 3
   },
   "file_extension": ".py",
   "mimetype": "text/x-python",
   "name": "python",
   "nbconvert_exporter": "python",
   "pygments_lexer": "ipython3",
   "version": "3.11.7"
  }
 },
 "nbformat": 4,
 "nbformat_minor": 2
}
