{
 "cells": [
  {
   "cell_type": "markdown",
   "metadata": {},
   "source": [
    "Git and Git Hub\n",
    "\n",
    "ls - list\n",
    "open . \\ start . (opens windows explorer)\n",
    "pwd - path, home directory\n",
    "cd - change directory \\ cd .. -> backs out of folder\n",
    "\n",
    "\n",
    "\n",
    "touch - create file or /blah/blah.text to make inside a folder \n",
    "\n",
    "mkdir - make a directory (makes a folder)\n",
    "\n",
    "rm - removes a file FOOREVER\n",
    "\n",
    "rm -rf (flag) - deletes a folder forever\n",
    "\n",
    "git init -initalize repo\n",
    "\n",
    "git commit -m \"message\" (best way, or there will be second states)\n",
    "\n",
    "git add . (to commit all in repo)\n",
    "\n",
    "git log (see the log of commit)"
   ]
  }
 ],
 "metadata": {
  "language_info": {
   "name": "python"
  }
 },
 "nbformat": 4,
 "nbformat_minor": 2
}
