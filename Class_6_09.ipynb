{
 "cells": [
  {
   "cell_type": "markdown",
   "metadata": {},
   "source": [
    "Git and Git Hub\n",
    "\n",
    "ls - list\n",
    "open . \\ start . (opens windows explorer)\n",
    "pwd - path, home directory\n",
    "cd - change directory \\ cd .. -> backs out of folder\n",
    "\n",
    "\n",
    "\n",
    "touch - create file or /blah/blah.text to make inside a folder \n",
    "\n",
    "mkdir - make a directory (makes a folder)\n",
    "\n",
    "rm - removes a file FOOREVER\n",
    "\n",
    "rm -rf (flag) - deletes a folder forever\n",
    "\n",
    "git init -initalize repo\n",
    "\n",
    "git commit -m \"message\" (best way, or there will be second states)\n",
    "\n",
    "git add . (to commit all in repo)\n",
    "\n",
    "git log (see the log of commit)\n",
    "\n",
    "FLOW\n",
    "git config --global user.email \"bob@bobob \"\n",
    "git config -- global user.name \"bob\"\n",
    "\n",
    "git status (gives us the status of the branch)\n",
    "\n",
    "git add . ( staging area)\n",
    "git commit -m \"\"\n",
    "\n",
    "\n",
    "\n",
    "\n",
    "\n",
    "\n",
    "git branch -a\n",
    "\n",
    "git checkout"
   ]
  }
 ],
 "metadata": {
  "language_info": {
   "name": "python"
  }
 },
 "nbformat": 4,
 "nbformat_minor": 2
}
