{
 "cells": [
  {
   "cell_type": "markdown",
   "metadata": {},
   "source": [
    "Class 02/06"
   ]
  },
  {
   "cell_type": "markdown",
   "metadata": {},
   "source": [
    "Tableau\n",
    "Hyper\n",
    ".tfl is a tableau file\n",
    "\n",
    "There is a bug - with dim date, you  would notice double date  _> aggreate -> grouped fields \n",
    "\n",
    "tableau prep -> building a fact table (w/ SK and BK)\n",
    "\n",
    "Cant name in dekstop name the extract the same as a column \n",
    "\n",
    "\n",
    "Live connection (desktop) - Connected to SQL server\n",
    "Extract (pulls all the data into a one workbook, but it is still connected to all the hyper files. So important to save hyper files in prep)\n",
    "\n",
    "Publish and deploy\n",
    "\n",
    "Because it is connected to a database/cloud and changes into the data is automatically updated. \n",
    "\n",
    "sheets, dashboard, story\n",
    "\n",
    "sheet - primary, here we build visualizations (but only 1)\n",
    "\n",
    "dashboard - is multiple visualizations (we conneted all the visualizations)\n",
    "\n",
    "story - here is we build a story. not so important. Sorta like powerpoint (can connect it to powerpoint)\n",
    "\n",
    "Data Source - > Sheet -> Dashboard is the workflow \n",
    "\n",
    "\n",
    "Sheet - Shelf or cards where we stack our measures or dimensions (pages, filter )\n",
    "\n",
    "GUI - Graphical User Interface\n",
    "\n",
    "\n",
    "when looking at data bar -> everything above the bar is a dimension, below is a measure . But not always correct, so we can change it \n",
    "\n",
    "Colors - dimensions are discreet values (בדרך כלל )but are you able to play with it like \"continuous\" "
   ]
  },
  {
   "cell_type": "code",
   "execution_count": null,
   "metadata": {},
   "outputs": [],
   "source": []
  },
  {
   "cell_type": "code",
   "execution_count": null,
   "metadata": {},
   "outputs": [],
   "source": []
  },
  {
   "cell_type": "code",
   "execution_count": null,
   "metadata": {},
   "outputs": [],
   "source": []
  },
  {
   "cell_type": "code",
   "execution_count": null,
   "metadata": {},
   "outputs": [],
   "source": []
  },
  {
   "cell_type": "code",
   "execution_count": null,
   "metadata": {},
   "outputs": [],
   "source": []
  },
  {
   "cell_type": "code",
   "execution_count": null,
   "metadata": {},
   "outputs": [],
   "source": []
  },
  {
   "cell_type": "code",
   "execution_count": null,
   "metadata": {},
   "outputs": [],
   "source": []
  }
 ],
 "metadata": {
  "language_info": {
   "name": "python"
  }
 },
 "nbformat": 4,
 "nbformat_minor": 2
}
