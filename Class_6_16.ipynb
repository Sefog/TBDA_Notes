{
 "cells": [
  {
   "cell_type": "markdown",
   "metadata": {},
   "source": [
    "Class 6/16: Last Class Sucker!\n",
    "\n",
    "Basic Stats: \n",
    "\n",
    "Mean -> Aver\n",
    "Median - middle - > sometimes it is good age, salary. Because it is less sensative to the extreme values \n",
    "Mode - the value that appears most often. quite good for categorical data \n",
    "multimode - for the most often, if two high values have the same mode\n",
    "SD (Standard deviation) - low(closer to the mean), high (spread out) - think of trying to measure the height of a cohort \n",
    "Frequency \n",
    "Alpha \n",
    "Z-Score tell us how many sd our observation (x) is far from the mena\n",
    "\n",
    "\n",
    "One-Sample-Hypothesis Testing \n",
    "think of our orange example, our mean is 3.5cm with a sd 0.5\n",
    "we claim to find oranges bigger than that...so is it fluke?\n",
    "\n",
    "h0 (null hypothesis) mean = 3.5\n",
    "h1 (alternative hyptothesis): mean > 3.5 \n",
    "significance -> 5% (alpha0  -Ramat Muvhakut)\n",
    "\n",
    "Test Statistic (Z)\n",
    "\n",
    "\n",
    "\n",
    "AB TESTING!\n",
    "split-testing/bucket tests \n",
    "\n",
    "A -> Control \n",
    "B -> Treatment \n",
    "\n",
    "statistical significance \n",
    "statistical power \n",
    "\n",
    "test statistic - t-testing\n"
   ]
  },
  {
   "cell_type": "code",
   "execution_count": 1,
   "metadata": {},
   "outputs": [],
   "source": [
    "import numpy as np\n",
    "import pandas as pd \n",
    "import statistics\n",
    "import matplotlib as mpl \n",
    "import seaborn as sns \n",
    "import matplotlib.pyplot as plt\n",
    "\n"
   ]
  },
  {
   "cell_type": "code",
   "execution_count": null,
   "metadata": {},
   "outputs": [],
   "source": [
    "class1 = [50,50,60,60,60,70,70,70,70 ,80,80,80,90,90]\n",
    "mean = statistics.mean(class1)\n",
    "std = statistics.stdev(class1, mean)\n",
    "\n",
    "print('mean value', mean)\n",
    "print('std dev', std)\n",
    "\n",
    "sns.\n",
    "\n"
   ]
  },
  {
   "cell_type": "code",
   "execution_count": null,
   "metadata": {},
   "outputs": [],
   "source": []
  }
 ],
 "metadata": {
  "kernelspec": {
   "display_name": "base",
   "language": "python",
   "name": "python3"
  },
  "language_info": {
   "codemirror_mode": {
    "name": "ipython",
    "version": 3
   },
   "file_extension": ".py",
   "mimetype": "text/x-python",
   "name": "python",
   "nbconvert_exporter": "python",
   "pygments_lexer": "ipython3",
   "version": "3.11.7"
  }
 },
 "nbformat": 4,
 "nbformat_minor": 2
}
