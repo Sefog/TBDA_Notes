{
 "cells": [
  {
   "cell_type": "markdown",
   "metadata": {},
   "source": [
    "## Class 14/4 : Under Seige Edition!"
   ]
  },
  {
   "cell_type": "markdown",
   "metadata": {},
   "source": [
    "Big Data"
   ]
  },
  {
   "cell_type": "markdown",
   "metadata": {},
   "source": [
    "Volume, variety, velocity -> large amount in many enviroments, wide variety and stored in variety places, and how fast it is generated and process\n",
    "there is technically 6"
   ]
  },
  {
   "cell_type": "markdown",
   "metadata": {},
   "source": [
    "Lets say 5000 employees \n",
    "Relational Databates -> RDBMS\n",
    "NoSQL -> Like MongoDB -> SemiStructured -> not SQL \n",
    "Hadoop, Hive, Spark -> Not database -> distributed storage -> big data "
   ]
  },
  {
   "cell_type": "markdown",
   "metadata": {},
   "source": [
    "RDBMS:\n",
    "CPU -> RAM -> HD\n",
    "Vertical Scaling -> there is limit how much we can build\n",
    "Horizontal scaling - > For big data -> HOR -> we can collect a chain of comptures -> comptures clusters -> that act as 1 \n",
    "So if I have a huge database i divide it onto the cluster (ds == ds1, ds2, ds3)\n"
   ]
  },
  {
   "cell_type": "markdown",
   "metadata": {},
   "source": [
    "Structured Data - it has a schema and in a relation database with rows and columsna nd a key - we know this\n",
    "Semi-Structured data - data that can be stored in a database with some structural information, XML, json are types. \n",
    "Unstructured Data -> Satellite images, text from emails, scientific data, photographs and video, radar and sonar data, social media data, mobile data (not necessarily big data. big data can any)\n"
   ]
  },
  {
   "cell_type": "markdown",
   "metadata": {},
   "source": [
    "Big data is a term relative to the available compouting and storage power on the market, for exmple, in 199 one gigiabyte was consired big data, today it can petabytes (1024 terabytes) or exabytes (1024 petabytes) of information inckluyding bilions or even trillions of records from millions of people . Zetabyte aprox equal to a thousand exabytes"
   ]
  },
  {
   "cell_type": "markdown",
   "metadata": {},
   "source": [
    "USE CASES: \n",
    "- Fraud Detection \n",
    "- Customer 360 degree view \n",
    "- Social Networks\n",
    "- Data from Machine sensors (automobile, traffic, routers)"
   ]
  },
  {
   "cell_type": "markdown",
   "metadata": {},
   "source": [
    "Be Ethical! Think of the old film with a future pizza place where we have a full folder on someones. Like the government doesn't already do that yuk yuk yuk \n",
    "\n",
    "big data analyst - applying data science and analytic results to critical business issues- helping an organization turn data into information - information into knoledge and insights - and valuable, actionable insights into better decision making and game changing strategies \n",
    "\n",
    "data enginess - the deisgners, builders, and managers of the information or big data infrastructure. \n",
    "\n",
    "big data in short is too large or complex to be deal by with traditional data -processing applicaiton softward\n",
    "basically it all comes down to scaling\n",
    "\n",
    "Scalability is the baility of a data analysuis system to process increasing amounts of data in an appropriate manager. \n",
    "\n",
    "So...\n",
    "Veritical Scvaling -> basically means just through a bigger server, maybe even seprate the app server \n",
    "horizontal scaling -> \n",
    "\n",
    "\n",
    "Hadoop is good for clusters of computers \n",
    "\n",
    "\n"
   ]
  },
  {
   "cell_type": "markdown",
   "metadata": {},
   "source": [
    "## MongoDB"
   ]
  },
  {
   "cell_type": "markdown",
   "metadata": {},
   "source": [
    "MQl -> language of mongodb\n",
    "crud - create, read, update, delete \n",
    "pyMongo -> python lib for it"
   ]
  },
  {
   "cell_type": "markdown",
   "metadata": {},
   "source": [
    "One-to-one\n",
    "One-to-many -> one customer to many orders\n",
    "many-to-many -> many students to manys subjects (and viser versa)\n",
    "\n",
    "in MongoDB -> document database, related data contained in a single, rich document.\n",
    "\n",
    "Not tables -> collections \n",
    "not rows -> documents\n",
    "not column -> field \n",
    "primary key (_id field)\n",
    "\n",
    "table join - $lookup, embedded Document"
   ]
  },
  {
   "cell_type": "markdown",
   "metadata": {},
   "source": [
    "CRUD Operations \n",
    "\n",
    "- INSERT\n",
    "- FIND\n",
    "- UPDATE\n",
    "- DELETE"
   ]
  },
  {
   "cell_type": "markdown",
   "metadata": {},
   "source": [
    "INSERT:  create or insert operations add new documents to a collection \n",
    "db.collection.insertOne()\n",
    "db.collection.insertMany( documents(in python, a dictonary -> key and value))\n",
    "I can insert collection with nothing it will create\n",
    "If I do not add _id field"
   ]
  },
  {
   "cell_type": "markdown",
   "metadata": {},
   "source": [
    "FIND: db.collection.find({}.{})"
   ]
  },
  {
   "cell_type": "code",
   "execution_count": null,
   "metadata": {},
   "outputs": [],
   "source": []
  },
  {
   "cell_type": "code",
   "execution_count": null,
   "metadata": {},
   "outputs": [],
   "source": []
  },
  {
   "cell_type": "code",
   "execution_count": null,
   "metadata": {},
   "outputs": [],
   "source": []
  },
  {
   "cell_type": "code",
   "execution_count": null,
   "metadata": {},
   "outputs": [],
   "source": []
  },
  {
   "cell_type": "code",
   "execution_count": null,
   "metadata": {},
   "outputs": [],
   "source": []
  }
 ],
 "metadata": {
  "kernelspec": {
   "display_name": "base",
   "language": "python",
   "name": "python3"
  },
  "language_info": {
   "codemirror_mode": {
    "name": "ipython",
    "version": 3
   },
   "file_extension": ".py",
   "mimetype": "text/x-python",
   "name": "python",
   "nbconvert_exporter": "python",
   "pygments_lexer": "ipython3",
   "version": "3.11.7"
  }
 },
 "nbformat": 4,
 "nbformat_minor": 2
}
